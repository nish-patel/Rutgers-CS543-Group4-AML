{
 "cells": [
  {
   "cell_type": "code",
   "execution_count": 1,
   "metadata": {},
   "outputs": [
    {
     "name": "stderr",
     "output_type": "stream",
     "text": [
      "/Users/npatel/anaconda3/lib/python3.10/site-packages/tqdm/auto.py:22: TqdmWarning: IProgress not found. Please update jupyter and ipywidgets. See https://ipywidgets.readthedocs.io/en/stable/user_install.html\n",
      "  from .autonotebook import tqdm as notebook_tqdm\n"
     ]
    }
   ],
   "source": [
    "import torch\n",
    "import torch.nn as nn\n",
    "import torch.nn.functional as F\n",
    "import torch_geometric.transforms as T\n",
    "from torch_geometric.nn import GATConv, Linear, GCNConv\n",
    "from torch_geometric.data import Data\n",
    "from torch_geometric.loader import NeighborLoader\n",
    "from sklearn.metrics import balanced_accuracy_score,f1_score,roc_auc_score, precision_score, recall_score\n",
    "import torch.optim as optim\n",
    "import pandas as pd\n",
    "import os\n",
    "import numpy as np\n",
    "import time\n",
    "import matplotlib.pyplot as plt\n",
    "\n",
    "start = time.time()\n"
   ]
  },
  {
   "cell_type": "code",
   "execution_count": 2,
   "metadata": {},
   "outputs": [],
   "source": [
    "# Load nodes and edges CSV files\n",
    "root_path = '/Users/npatel/Library/CloudStorage/Dropbox/Nish/Rutgers MSDS/3_2023F/Massive Data Storage/Project/NN Project 2/'\n",
    "# root_path = '/common/users/shared/cs543_group4/graph_csvs'\n",
    "nodes_df = pd.read_csv(os.path.join(root_path, 'nodes_small.csv'), dtype={'unique_id_int': int, 'bank':int, 'is_laundering':int, 'transactions_from':int,'transactions_to':int, 'total_usd_from':float,'total_usd_to':float,'avg_usd_to':float,'avg_usd_from':float, 'total_currencies_from':int, 'total_currencies_to':int})\n",
    "edges_df = pd.read_csv(os.path.join(root_path, 'edges_small.csv'), dtype={'bank_from':int, 'bank_to':int, 'currency_to':int, 'currency_from':int, 'payment_format':int, 'is_laundering':int,'month':int,'year':int,'day':int,'hour':int,'minute':int,'unique_id_from':int,'unique_id_to':int,'amount_usd':float})\n",
    "# nodes_df = pd.read_csv(os.path.join(root_path, 'nodes_small.csv'))\n",
    "# edges_df = pd.read_csv(os.path.join(root_path, 'edges_small.csv'))"
   ]
  },
  {
   "cell_type": "code",
   "execution_count": 3,
   "metadata": {},
   "outputs": [],
   "source": [
    "#create node tensors\n",
    "unique_ids = torch.tensor(nodes_df['unique_id_int'].values, dtype=torch.long)\n",
    "node_features = torch.tensor(nodes_df.drop(columns=['unique_id_int', 'is_laundering']).values, dtype=torch.float)\n",
    "y_tensor = torch.tensor(nodes_df['is_laundering'].values, dtype=torch.float)\n",
    "\n",
    "#create edge tensors\n",
    "edge_index = torch.tensor(edges_df[['unique_id_from_int', 'unique_id_to_int']].values, dtype=torch.long).t().contiguous()\n",
    "edge_features = torch.tensor(edges_df.drop(columns=['unique_id_from_int', 'unique_id_to_int']).values, dtype=torch.float)\n",
    "\n",
    "#create data object\n",
    "graph = Data(x=node_features, edge_index=edge_index, edge_attr=edge_features, y = y_tensor)"
   ]
  },
  {
   "cell_type": "code",
   "execution_count": 4,
   "metadata": {},
   "outputs": [],
   "source": [
    "split = T.RandomNodeSplit(split='train_rest', num_val=0.1, num_test=0)\n",
    "data = split(graph)\n",
    "\n",
    "train_loader = NeighborLoader(\n",
    "    data,\n",
    "    num_neighbors=[30] * 2,\n",
    "    batch_size=256,\n",
    "    input_nodes=data.train_mask,\n",
    ")\n",
    "\n",
    "test_loader = NeighborLoader(\n",
    "    data,\n",
    "    num_neighbors=[30] * 2,\n",
    "    batch_size=int(np.ceil(graph.num_nodes/10)),\n",
    "    input_nodes=data.val_mask,\n",
    ")"
   ]
  },
  {
   "cell_type": "code",
   "execution_count": 5,
   "metadata": {},
   "outputs": [],
   "source": [
    "class GAT(torch.nn.Module):\n",
    "    def __init__(self, in_channels, hidden_channels, out_channels, heads):\n",
    "        super().__init__()\n",
    "\n",
    "        #convolutional layers\n",
    "        self.conv1 = GATConv(in_channels, hidden_channels, heads, dropout=0.3)\n",
    "        self.conv2 = GATConv(hidden_channels * heads, int(hidden_channels/4), heads=1, concat=False, dropout=0.3)\n",
    "        \n",
    "        #fully connected layer\n",
    "        self.fc = Linear(int(hidden_channels/4), out_channels)\n",
    "        \n",
    "        #sigmoid activation\n",
    "        self.sigmoid = nn.Sigmoid()\n",
    "\n",
    "    def forward(self, x, edge_index, edge_attr):\n",
    "\n",
    "        #convolutional layers with elu and dropout\n",
    "        x = F.elu(self.conv1(x, edge_index, edge_attr))\n",
    "        x = F.dropout(x, p=0.3, training=self.training)\n",
    "        x = F.elu(self.conv2(x, edge_index, edge_attr))\n",
    "        \n",
    "        #fully connected layer\n",
    "        x = self.fc(x)\n",
    "\n",
    "        #sigmoid to convert to probability\n",
    "        x = self.sigmoid(x)\n",
    "        \n",
    "        return x"
   ]
  },
  {
   "cell_type": "code",
   "execution_count": 6,
   "metadata": {},
   "outputs": [],
   "source": [
    "class GCN(nn.Module):\n",
    "    def __init__(self, input_dim, hidden_dim, output_dim, dropout_prob=0.5):\n",
    "        super(GCN, self).__init__()\n",
    "\n",
    "        #graph convolutional layers\n",
    "        self.conv1 = GCNConv(input_dim, hidden_dim)\n",
    "        self.conv1b = GCNConv(hidden_dim, hidden_dim*2)\n",
    "        self.conv2 = GCNConv(hidden_dim*2, hidden_dim)\n",
    "\n",
    "        #fully connected layers\n",
    "        self.fc1 = nn.Linear(hidden_dim, 64)\n",
    "        self.fc1b = nn.Linear(64,128)\n",
    "        self.fc2 = nn.Linear(128, output_dim)\n",
    "\n",
    "        #dropout layer for regularization\n",
    "        self.dropout = nn.Dropout(p=dropout_prob)\n",
    "\n",
    "    def forward(self, x, edge_index, edge_attr):\n",
    "\n",
    "        #convolutional layers with relu\n",
    "        x = F.relu(self.conv1(x, edge_index))\n",
    "        x = self.dropout(x)\n",
    "        x = F.relu(self.conv1b(x, edge_index))\n",
    "        x = self.dropout(x)\n",
    "        x = F.relu(self.conv2(x, edge_index))\n",
    "        x = self.dropout(x)\n",
    "\n",
    "        #fc layers with dropout and relu\n",
    "        x = F.relu(self.fc1(x))\n",
    "        x = self.dropout(x)\n",
    "        x = F.relu(self.fc1b(x))\n",
    "        x = self.dropout(x)\n",
    "        x = self.fc2(x)\n",
    "\n",
    "        #sigmoid to convert to probability\n",
    "        x = torch.sigmoid(x)\n",
    "\n",
    "        return x"
   ]
  },
  {
   "cell_type": "code",
   "execution_count": 7,
   "metadata": {},
   "outputs": [
    {
     "name": "stdout",
     "output_type": "stream",
     "text": [
      "Epoch: 0, Loss: 2.8454, Validation Loss: 32.7870, Accuracy: 0.4981, Time: 36 seconds\n",
      "Epoch: 1, Loss: 2.8142, Validation Loss: 6.3588, Accuracy: 0.5001, Time: 34 seconds\n",
      "Epoch: 2, Loss: 3.5747, Validation Loss: 1.7136, Accuracy: 0.5000, Time: 32 seconds\n",
      "Epoch: 3, Loss: 3.2192, Validation Loss: 1.4061, Accuracy: 0.5000, Time: 32 seconds\n",
      "training complete, time = 138 seconds\n"
     ]
    }
   ],
   "source": [
    "# device = torch.device('cuda' if torch.cuda.is_available() else 'cpu')\n",
    "device = 'cpu'\n",
    "epoch = 4\n",
    "\n",
    "model = GAT(in_channels=data.num_features, hidden_channels=16, out_channels=1, heads=8)\n",
    "# model = GCN(data.num_features, 16, 1)\n",
    "model = model.to(device)\n",
    "\n",
    "#calculate class weight to adjust for class imbalance\n",
    "total_samples = len(y_tensor)\n",
    "class_1_count = (y_tensor == 1).sum().item()\n",
    "\n",
    "#create a tensor with the calculated class weights\n",
    "pos_weight = torch.tensor(total_samples / class_1_count)\n",
    "\n",
    "#define loss function with weights\n",
    "criterion = nn.BCEWithLogitsLoss(pos_weight=pos_weight)\n",
    "# criterion = nn.BCELoss()\n",
    "\n",
    "optimizer = torch.optim.Adam(model.parameters(), lr=0.0001)\n",
    "\n",
    "training_loss = []\n",
    "validation_loss = []\n",
    "\n",
    "for i in range(epoch):\n",
    "    epoch_start = time.time()\n",
    "    total_loss = 0\n",
    "    model.train()\n",
    "    #train model\n",
    "    for train_data in train_loader:\n",
    "        optimizer.zero_grad()\n",
    "        train_data.to(device)\n",
    "        pred = model(train_data.x, train_data.edge_index, train_data.edge_attr)\n",
    "        loss = criterion(pred, train_data.y.unsqueeze(1))\n",
    "        loss.backward() #backprop\n",
    "        optimizer.step()\n",
    "    #validate model\n",
    "    model.eval()\n",
    "    with torch.no_grad():\n",
    "        for test_data in test_loader:\n",
    "            test_data.to(device)\n",
    "            pred = model(test_data.x, test_data.edge_index, test_data.edge_attr)\n",
    "        \n",
    "        val_loss = criterion(pred, test_data.y.unsqueeze(1))\n",
    "        training_loss.append(loss.item()) #store losses\n",
    "        validation_loss.append(val_loss.item())\n",
    "\n",
    "        #calculate balanced accuracy\n",
    "        sample_weight =  torch.where(test_data.y == 1, total_samples / class_1_count, total_samples / (total_samples - class_1_count))\n",
    "        pred_binary = np.where(pred.detach().numpy()>=0.01, 1,0)\n",
    "        y_scores = test_data.y.detach().numpy()\n",
    "        accuracy = balanced_accuracy_score(y_scores, pred_binary, sample_weight=sample_weight)\n",
    "        \n",
    "        eval_end = time.time()\n",
    "        print(f\"Epoch: {i}, Loss: {loss.item():.4f}, Validation Loss: {val_loss.item():.4f}, Accuracy: {accuracy:.4f}, Time: {((eval_end-epoch_start)):.0f} seconds\")\n",
    "\n",
    "\n",
    "end = time.time()\n",
    "\n",
    "print('training complete, time = %d seconds' %(end-start))\n"
   ]
  },
  {
   "cell_type": "code",
   "execution_count": 8,
   "metadata": {},
   "outputs": [
    {
     "data": {
      "image/png": "[encoded data removed]",
      "text/plain": [
       "<Figure size 1000x600 with 1 Axes>"
      ]
     },
     "metadata": {},
     "output_type": "display_data"
    }
   ],
   "source": [
    "# create training/validation plot\n",
    "epochs = range(1, epoch+1)\n",
    "\n",
    "plt.figure(figsize=(10, 6))\n",
    "plt.plot(epochs, training_loss, label='Training Loss', marker='o')\n",
    "plt.plot(epochs, validation_loss, label='Validation Loss', marker='o')\n",
    "plt.title('Training and Validation Loss Over Epochs')\n",
    "plt.xlabel('Epochs')\n",
    "plt.ylabel('Loss')\n",
    "plt.legend()\n",
    "# plt.show()\n",
    "plt.savefig(os.path.join(root_path, 'plot.png'))"
   ]
  },
  {
   "cell_type": "code",
   "execution_count": 9,
   "metadata": {},
   "outputs": [
    {
     "name": "stdout",
     "output_type": "stream",
     "text": [
      "accuracy: 0.5\n",
      "f1_micro: 0.024009109943797527\n",
      "f1_macro: 0.023446187842132826\n",
      "roc_auc: 0.5\n",
      "recall: 1.0\n",
      "precision: 0.024009109943797523\n"
     ]
    }
   ],
   "source": [
    "pred_labels = pred.detach().numpy()\n",
    "pred_binary = np.where(pred_labels>=0.01, 1,0)\n",
    "y_scores = test_data.y.detach().numpy()\n",
    "\n",
    "\n",
    "accuracy = balanced_accuracy_score(y_scores, pred_binary, sample_weight=sample_weight)\n",
    "f1_micro = f1_score(y_scores, pred_binary,average='micro')\n",
    "f1_macro = f1_score(y_scores, pred_binary,average='macro')\n",
    "roc_auc = roc_auc_score(y_scores, pred_binary)\n",
    "recall = recall_score(y_scores, pred_binary)\n",
    "precision = precision_score(y_scores, pred_binary)\n",
    "\n",
    "print('accuracy: ' + str(accuracy))\n",
    "print('f1_micro: ' + str(f1_micro))\n",
    "print('f1_macro: ' + str(f1_macro))\n",
    "print('roc_auc: ' + str(roc_auc))\n",
    "print('recall: ' + str(recall))\n",
    "print('precision: ' + str(precision))\n",
    "\n"
   ]
  }
 ],
 "metadata": {
  "kernelspec": {
   "display_name": "base",
   "language": "python",
   "name": "python3"
  },
  "language_info": {
   "codemirror_mode": {
    "name": "ipython",
    "version": 3
   },
   "file_extension": ".py",
   "mimetype": "text/x-python",
   "name": "python",
   "nbconvert_exporter": "python",
   "pygments_lexer": "ipython3",
   "version": "3.10.9"
  }
 },
 "nbformat": 4,
 "nbformat_minor": 2
}
