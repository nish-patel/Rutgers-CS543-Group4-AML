{
 "cells": [
  {
   "cell_type": "markdown",
   "id": "e8f61e50-ee70-400a-84e5-e28ee70c4c2a",
   "metadata": {},
   "source": [
    "CS 543 Fall 2023\n",
    "\n",
    "Project #1\n",
    "\n",
    "Date: 10/13/2023\n",
    "\n",
    "Group Number: 4\n",
    "\n",
    "**Data Preprocessing**"
   ]
  },
  {
   "cell_type": "code",
   "execution_count": 1,
   "id": "3fb62e77-9981-485f-94ef-6aede4a76bfc",
   "metadata": {
    "tags": []
   },
   "outputs": [],
   "source": [
    "#imports\n",
    "from pyspark import SparkContext\n",
    "from pyspark.sql import SparkSession\n",
    "from pyspark.sql.functions import to_date, col, sum, mean, stddev, median, year, month, count, concat_ws, sha2, desc, asc, lag, when, lit, round, avg, min, max\n",
    "from pyspark.sql.window import Window"
   ]
  },
  {
   "cell_type": "code",
   "execution_count": 2,
   "id": "ecc3ff86-6079-402b-bfbf-2c9014835c26",
   "metadata": {
    "tags": []
   },
   "outputs": [],
   "source": [
    "#initialize Spark\n",
    "spark = SparkSession(sc)"
   ]
  },
  {
   "cell_type": "code",
   "execution_count": 3,
   "id": "b807ddf8-8c54-4305-a682-52e9823c934a",
   "metadata": {},
   "outputs": [
    {
     "name": "stderr",
     "output_type": "stream",
     "text": [
      "[Stage 2:===================================================>   (119 + 9) / 128]\r"
     ]
    },
    {
     "name": "stdout",
     "output_type": "stream",
     "text": [
      "df with 179702229 rows imported\n"
     ]
    },
    {
     "name": "stderr",
     "output_type": "stream",
     "text": [
      "                                                                                \r"
     ]
    }
   ],
   "source": [
    "#define the path to the CSV file with transactions data\n",
    "csv_file_path = '/common/users/shared/cs543_group4/HI-Large_Trans.csv'\n",
    "\n",
    "#load the data as a spark df\n",
    "data_df = spark.read.csv(csv_file_path, header=True, inferSchema=True)\n",
    "\n",
    "#rename columns\n",
    "data_df = data_df.withColumnRenamed('Timestamp', 'timestamp') \\\n",
    "                 .withColumnRenamed('From Bank', 'bank_from') \\\n",
    "                 .withColumnRenamed('Account2', 'account_from') \\\n",
    "                 .withColumnRenamed('To Bank', 'bank_to') \\\n",
    "                 .withColumnRenamed('Account4', 'account_to') \\\n",
    "                 .withColumnRenamed('Amount Received', 'amount_to') \\\n",
    "                 .withColumnRenamed('Receiving Currency', 'currency_to') \\\n",
    "                 .withColumnRenamed('Amount Paid', 'amount_from') \\\n",
    "                 .withColumnRenamed('Payment Currency', 'currency_from') \\\n",
    "                 .withColumnRenamed('Payment Format', 'payment_format') \\\n",
    "                 .withColumnRenamed('Is Laundering', 'is_laundering')\n",
    "\n",
    "#convert timestamp column to date format\n",
    "data_df = data_df.withColumn(\"timestamp\", to_date(data_df[\"timestamp\"], \"yyyy/MM/dd HH:mm\"))\n",
    "\n",
    "#add month and year columns\n",
    "data_df = data_df.withColumn('month', month('timestamp'))\n",
    "data_df = data_df.withColumn('year', year('timestamp'))\n",
    "\n",
    "#check count of df\n",
    "raw_data_count = data_df.count()\n",
    "print('df with %d rows imported' %raw_data_count)"
   ]
  },
  {
   "cell_type": "code",
   "execution_count": 4,
   "id": "d8684676-aad7-4065-9861-954fbe055ba7",
   "metadata": {
    "tags": []
   },
   "outputs": [
    {
     "name": "stderr",
     "output_type": "stream",
     "text": [
      "23/10/18 05:27:34 WARN CSVHeaderChecker: CSV header does not conform to the schema.\n",
      " Header: Timestamp, From Bank, Account, To Bank, Account, Amount Received, Receiving Currency, Amount Paid, Payment Currency, Payment Format, Is Laundering\n",
      " Schema: Timestamp, From Bank, Account2, To Bank, Account4, Amount Received, Receiving Currency, Amount Paid, Payment Currency, Payment Format, Is Laundering\n",
      "Expected: Account2 but found: Account\n",
      "CSV file: file:///common/users/shared/cs543_group4/HI-Large_Trans.csv\n",
      "[Stage 5:======================================================>(127 + 1) / 128]\r"
     ]
    },
    {
     "name": "stdout",
     "output_type": "stream",
     "text": [
      "+---------+---------+------------+-------+----------+---------+-----------+-----------+-------------+--------------+-------------+-----+----+\n",
      "|timestamp|bank_from|account_from|bank_to|account_to|amount_to|currency_to|amount_from|currency_from|payment_format|is_laundering|month|year|\n",
      "+---------+---------+------------+-------+----------+---------+-----------+-----------+-------------+--------------+-------------+-----+----+\n",
      "|        0|        0|           0|      0|         0|        0|          0|          0|            0|             0|            0|    0|   0|\n",
      "+---------+---------+------------+-------+----------+---------+-----------+-----------+-------------+--------------+-------------+-----+----+\n",
      "\n"
     ]
    },
    {
     "name": "stderr",
     "output_type": "stream",
     "text": [
      "                                                                                \r"
     ]
    }
   ],
   "source": [
    "#check for nulls\n",
    "null_counts = data_df.select([sum(col(c).isNull().cast('int')).alias(c) for c in data_df.columns])\n",
    "null_counts.show()"
   ]
  },
  {
   "cell_type": "code",
   "execution_count": 5,
   "id": "5d626384-f557-4c76-947e-4a90b8bde5ac",
   "metadata": {
    "tags": []
   },
   "outputs": [],
   "source": [
    "#check for duplicate records and store them in a df\n",
    "#duplicate_df = data_df.exceptAll(data_df.dropDuplicates())\n",
    "\n",
    "#count the number of duplicate rows\n",
    "#num_duplicates = duplicate_df.count()\n",
    "#print('Number of duplicate rows: %d' %num_duplicates)"
   ]
  },
  {
   "cell_type": "code",
   "execution_count": 6,
   "id": "882892de-beb3-4a18-8fde-11d0425abea2",
   "metadata": {
    "tags": []
   },
   "outputs": [
    {
     "name": "stderr",
     "output_type": "stream",
     "text": [
      "[Stage 13:>                                                         (0 + 1) / 1]\r"
     ]
    },
    {
     "name": "stdout",
     "output_type": "stream",
     "text": [
      "outliers for amount_from are 3974061.499561 +/- 1389274856.969850.  the median for amount_from is 1399.300000\n",
      "outliers for amount_to are 5606773.502230 +/- 1815450373.623863.  the median for amount_from is 1397.240000\n"
     ]
    },
    {
     "name": "stderr",
     "output_type": "stream",
     "text": [
      "                                                                                \r"
     ]
    }
   ],
   "source": [
    "#check for outliers (+/- 3SD) in amount_to, amount_from columns\n",
    "amount_from_stats = data_df.select(mean('amount_from').alias('mean_from'), stddev('amount_from').alias('stddev_from'), median('amount_from').alias('median_from')).first()\n",
    "amount_to_stats = data_df.select(mean('amount_to').alias('mean_to'), stddev('amount_to').alias('stddev_to'), median('amount_to').alias('median_to')).first()\n",
    "\n",
    "#create outlier dfs that have records with +/- 3SD payment amounts\n",
    "from_minus_3sd_df = data_df.filter((col('amount_from') < (amount_from_stats.mean_from - 3 * amount_from_stats.stddev_from)))\n",
    "from_plus_3sd_df = data_df.filter((col('amount_from') > (amount_from_stats.mean_from + 3 * amount_from_stats.stddev_from)))\n",
    "to_minus_3sd_df = data_df.filter((col('amount_to') < (amount_to_stats.mean_to - 3 * amount_to_stats.stddev_to)))\n",
    "to_plus_3sd_df = data_df.filter((col('amount_to') > (amount_to_stats.mean_to + 3 * amount_to_stats.stddev_to)))\n",
    "\n",
    "print('outliers for amount_from are %f +/- %f.  the median for amount_from is %f' %(amount_from_stats.mean_from, amount_from_stats.stddev_from, amount_from_stats.median_from))\n",
    "print('outliers for amount_to are %f +/- %f.  the median for amount_from is %f' %(amount_to_stats.mean_to, amount_to_stats.stddev_to, amount_to_stats.median_to))"
   ]
  },
  {
   "cell_type": "code",
   "execution_count": 7,
   "id": "b4488435-dbca-46e5-8c69-94e92105cb76",
   "metadata": {
    "tags": []
   },
   "outputs": [
    {
     "name": "stderr",
     "output_type": "stream",
     "text": [
      "                                                                                \r"
     ]
    },
    {
     "name": "stdout",
     "output_type": "stream",
     "text": [
      "+-----------------+-----------------+-------------------+----------------+-------------------+-------------------+----------------------+\n",
      "|    currency_from|      currency_to|    conversion_rate|num_transactions|min_conversion_rate|max_conversion_rate|median_conversion_rate|\n",
      "+-----------------+-----------------+-------------------+----------------+-------------------+-------------------+----------------------+\n",
      "|      Brazil Real|            Ruble| 13.779621325296002|               9| 13.778697906146906| 13.781498534951863|    13.779279454722493|\n",
      "|      Saudi Riyal|            Ruble| 20.721147685411374|               9| 20.571428571428573| 20.746235606731624|     20.74162632294102|\n",
      "|          Bitcoin|           Shekel| 40123.289047052545|              10|  40102.30179028133|  40137.64624913971|    40124.251069247766|\n",
      "|      Saudi Riyal|      Swiss Franc|0.24399733382330274|              15|0.24385245901639344|0.24453024453024452|    0.2439227986745251|\n",
      "|          Bitcoin|      Swiss Franc| 10869.008615723413|              15| 10853.658536585364|  10880.82901554404|    10871.718672610203|\n",
      "|     Mexican Peso|            Ruble| 3.6798667727750924|              15| 3.6797502992987856|  3.680017073344241|    3.6798785953156585|\n",
      "|          Bitcoin|            Ruble|  924463.9798932332|              15|  924100.7194244604|  925526.3157894737|     924399.8592045053|\n",
      "|      Saudi Riyal|Australian Dollar| 0.3766128545686071|              17| 0.3762575452716298|0.37689243027888447|   0.37663578772138046|\n",
      "|Australian Dollar|            Ruble| 55.001034954685096|              18|  53.80952380952382| 55.096335078534025|     55.07077539480522|\n",
      "|      Brazil Real|Australian Dollar| 0.2501745918902917|              18|0.24979389942291835| 0.2502497502497502|    0.2502076477940053|\n",
      "|      Swiss Franc|            Ruble|  85.03347585986113|              18|  84.98073836276082|   85.0775969962453|     85.03177699260355|\n",
      "|          Bitcoin|Australian Dollar| 16790.565921164507|              22| 16774.566473988438| 16851.851851851854|      16787.3593330854|\n",
      "|      Saudi Riyal|            Rupee| 19.578885722074606|              24|  19.56936936936937|  19.58009083098073|     19.57925398266491|\n",
      "|      Saudi Riyal|      Brazil Real| 1.5052940158948467|              25|  1.503676470588235| 1.5081967213114755|    1.5052916660778575|\n",
      "|      Swiss Franc|      Brazil Real|  6.171201113923866|              29|               6.16|  6.181415929203541|    6.1713437268002975|\n",
      "|          Bitcoin|      Brazil Real|  67092.64959327251|              29|  67074.42888725128|  67109.20770877945|     67091.78743961353|\n",
      "|     Mexican Peso|Australian Dollar|0.06681996715681313|              30|0.06678716674197921| 0.0668390361976015|   0.06682095034288828|\n",
      "|           Shekel|            Ruble| 23.040293888390764|              30|  23.03745743473326| 23.058823529411764|    23.039382725071327|\n",
      "|      Swiss Franc|Australian Dollar| 1.5432979636025783|              32|               1.52| 1.5446808510638297|    1.5440319021557216|\n",
      "|      Swiss Franc|            Rupee|  80.26461826113712|              34|   80.2235609103079|  80.29277813923227|     80.26677920723813|\n",
      "+-----------------+-----------------+-------------------+----------------+-------------------+-------------------+----------------------+\n",
      "only showing top 20 rows\n",
      "\n"
     ]
    },
    {
     "name": "stderr",
     "output_type": "stream",
     "text": [
      "[Stage 17:====================================================> (124 + 4) / 128]\r"
     ]
    },
    {
     "name": "stdout",
     "output_type": "stream",
     "text": [
      "+---------------+------------+--------------------+----------------+--------------------+--------------------+----------------------+--------------------+-------------------------+\n",
      "|  currency_from| currency_to|     conversion_rate|num_transactions| min_conversion_rate| max_conversion_rate|median_conversion_rate|conversion_rate_diff|conversion_rate_diff_perc|\n",
      "+---------------+------------+--------------------+----------------+--------------------+--------------------+----------------------+--------------------+-------------------------+\n",
      "|           Yuan|   US Dollar| 0.14930356143378667|          296239| 0.11111111111111112| 0.33333333333333337|   0.14930721458906726| 0.22222222222222227|       0.6666666666666667|\n",
      "|            Yen|        Yuan| 0.06377803534474567|            1817|0.045454545454545456|               0.125|   0.06354459358836462| 0.07954545454545454|       0.6363636363636364|\n",
      "|           Yuan|     Bitcoin|1.306865196903374...|            3664|9.090909090909091E-6|2.499999999999999...|               1.25E-5|1.590909090909090...|       0.6363636363636364|\n",
      "|          Rupee| Saudi Riyal| 0.05120897048063757|            1128|                0.04| 0.09999999999999999|   0.05107443639323986| 0.05999999999999999|                      0.6|\n",
      "|          Rupee|   US Dollar|0.013625032898877556|           31124|0.009345794392523364|0.022727272727272728|  0.013615814576645869|0.013381478334749364|        0.588785046728972|\n",
      "|            Yen|        Euro|0.008097766581319011|            6947|0.005714285714285714|0.012987012987012986|  0.008096774193561715|0.007272727272727272|       0.5599999999999999|\n",
      "|           Euro|Mexican Peso|  24.767048858445275|            8563|                12.0|               26.25|     24.77513487608511|               14.25|       0.5428571428571428|\n",
      "|           Euro|        Yuan|     7.8475685893175|           29370|                 4.0|                 8.5|     7.848136866130245|                 4.5|       0.5294117647058824|\n",
      "|          Ruble|        Euro|0.010990194470531983|            3285|0.009779951100244499|0.020408163265306124|  0.010968589664975744|0.010628212165061626|       0.5207823960880196|\n",
      "|    Brazil Real|   US Dollar|  0.1780841643894946|            1790|                0.16| 0.33333333333333337|   0.17710071371475064| 0.17333333333333337|                     0.52|\n",
      "|          Rupee|        Euro| 0.01157608160576758|            6064|0.009009009009009009|0.018518518518518517|  0.011619737655807207|0.009509509509509509|       0.5135135135135135|\n",
      "|            Yen|   US Dollar|0.009474283158489956|           39648|0.006666666666666667|0.013513513513513514|  0.009487664541987956|0.006846846846846847|       0.5066666666666667|\n",
      "|      US Dollar|     Bitcoin|8.569655082673122E-5|           42169|4.999999999999999...|              1.0E-4|  8.417391304347826E-5|5.000000000000001E-5|       0.5000000000000001|\n",
      "|      US Dollar|        Euro|  0.8533987175358697|          602533|                 0.5|                 1.0|    0.8533999997755052|                 0.5|                      0.5|\n",
      "|         Shekel|   US Dollar|  0.2964954029238315|            1549|                0.25|                 0.5|    0.2961208258411695|                0.25|                      0.5|\n",
      "|Canadian Dollar|    UK Pound|  0.5880956170407676|             225|                 0.5|                 1.0|    0.5868219876228614|                 0.5|                      0.5|\n",
      "|           Euro| Brazil Real|   6.615145003085987|            6929|                 4.0|                 8.0|     6.616475823119104|                 4.0|                      0.5|\n",
      "|Canadian Dollar|        Euro|  0.6472935291869641|            3008|                 0.5|                 1.0|    0.6468584089991424|                 0.5|                      0.5|\n",
      "|            Yen|    UK Pound|0.007366367782428...|            1779|0.007321208384710234|0.014084507042253521|  0.007345583068963314|0.006763298657543287|       0.4801942046855734|\n",
      "|    Swiss Franc|      Shekel|  3.6824642101309015|             892|                 2.0|   3.695652173913044|    3.6907099368236604|   1.695652173913044|      0.45882352941176474|\n",
      "+---------------+------------+--------------------+----------------+--------------------+--------------------+----------------------+--------------------+-------------------------+\n",
      "only showing top 20 rows\n",
      "\n"
     ]
    },
    {
     "name": "stderr",
     "output_type": "stream",
     "text": [
      "                                                                                \r"
     ]
    }
   ],
   "source": [
    "#calculate average conversion rates for each currency pair\n",
    "conversion_rates = data_df.groupBy('currency_from', 'currency_to').agg(\n",
    "    avg(data_df['amount_to'] / data_df['amount_from']).alias('conversion_rate'),\n",
    "    count(lit(1)).alias('num_transactions'),\n",
    "    min(data_df['amount_to'] / data_df['amount_from']).alias('min_conversion_rate'),\n",
    "    max(data_df['amount_to'] / data_df['amount_from']).alias('max_conversion_rate'),\n",
    "    median(data_df['amount_to'] / data_df['amount_from']).alias('median_conversion_rate')\n",
    ")\n",
    "\n",
    "conversion_rates.sort(asc('num_transactions')).show() #check to make sure we have a reasonable sample (5+ transactions) to calculate conversion rate\n",
    "\n",
    "conversion_rates = conversion_rates.withColumn('conversion_rate_diff', col('max_conversion_rate') - col('min_conversion_rate'))\n",
    "conversion_rates = conversion_rates.withColumn('conversion_rate_diff_perc', col('conversion_rate_diff') / col('max_conversion_rate'))\n",
    "\n",
    "conversion_rates.sort(desc('conversion_rate_diff_perc')).show() #check to see where the max and min conversion rate differs the most"
   ]
  },
  {
   "cell_type": "code",
   "execution_count": 8,
   "id": "2ce5dd87-5ec3-4020-848f-c62a5c15daba",
   "metadata": {
    "tags": []
   },
   "outputs": [
    {
     "name": "stderr",
     "output_type": "stream",
     "text": [
      "23/10/18 05:32:16 WARN CSVHeaderChecker: CSV header does not conform to the schema.\n",
      " Header: Timestamp, From Bank, Account, To Bank, Account, Amount Received, Receiving Currency, Amount Paid, Payment Currency, Payment Format, Is Laundering\n",
      " Schema: Timestamp, From Bank, Account2, To Bank, Account4, Amount Received, Receiving Currency, Amount Paid, Payment Currency, Payment Format, Is Laundering\n",
      "Expected: Account2 but found: Account\n",
      "CSV file: file:///common/users/shared/cs543_group4/HI-Large_Trans.csv\n",
      "[Stage 21:=====================================================>(127 + 1) / 128]\r"
     ]
    },
    {
     "name": "stdout",
     "output_type": "stream",
     "text": [
      "+----------+---------+------------+-------+----------+----------+-----------+-----------+-------------+--------------+-------------+-----+----+--------------------+------------------+--------------------+------------------+\n",
      "| timestamp|bank_from|account_from|bank_to|account_to| amount_to|currency_to|amount_from|currency_from|payment_format|is_laundering|month|year|conversion_rate_from|   amount_from_usd|  conversion_rate_to|     amount_to_usd|\n",
      "+----------+---------+------------+-------+----------+----------+-----------+-----------+-------------+--------------+-------------+-----+----+--------------------+------------------+--------------------+------------------+\n",
      "|2022-08-01|    34377|   801BEB6D0|  34377| 801BEB6D0|  99492.58|        Yen|   99492.58|          Yen|  Reinvestment|            0|    8|2022|0.009474283158489959| 942.6208750887149|0.009474283158489959| 942.6208750887149|\n",
      "|2022-08-01|    34371|   801CA4900|  34371| 801CA4900| 163760.09|        Yen|  163760.09|          Yen|  Reinvestment|            0|    8|2022|0.009474283158489959|   1551.5094627198|0.009474283158489959|   1551.5094627198|\n",
      "|2022-08-01|    34368|   802999A60|  34368| 802999A60|  468190.1|        Yen|   468190.1|          Yen|  Reinvestment|            0|    8|2022|0.009474283158489959| 4435.765579401729|0.009474283158489959| 4435.765579401729|\n",
      "|2022-08-01|    34377|   803016760|  34377| 803016760|3042418.35|        Yen| 3042418.35|          Yen|  Reinvestment|            0|    8|2022|0.009474283158489959| 28824.73293448581|0.009474283158489959| 28824.73293448581|\n",
      "|2022-08-01|   318111|   80739B230| 318111| 80739B230|3535268.58|        Yen| 3535268.58|          Yen|  Reinvestment|            0|    8|2022|0.009474283158489959| 33494.13556823271|0.009474283158489959| 33494.13556823271|\n",
      "|2022-08-01|    34379|   80796A4C0|  34379| 80796A4C0| 141441.65|        Yen|  141441.65|          Yen|  Reinvestment|            0|    8|2022|0.009474283158489959|1340.0582425040313|0.009474283158489959|1340.0582425040313|\n",
      "|2022-08-01|    34371|   808BCE0C0|  34371| 808BCE0C0| 162777.51|        Yen|  162777.51|          Yen|  Reinvestment|            0|    8|2022|0.009474283158489959| 1542.200221573931|0.009474283158489959| 1542.200221573931|\n",
      "|2022-08-01|     8904|   80B90BCA0|  39424| 81229AD10|   4866.54|        Yen|    4866.54|          Yen|   Credit Card|            0|    8|2022|0.009474283158489959|46.106977962117725|0.009474283158489959|46.106977962117725|\n",
      "|2022-08-01|   337372|   80DCE1200| 337372| 80DCE1200|  21999.96|        Yen|   21999.96|          Yen|  Reinvestment|            0|    8|2022|0.009474283158489959|208.43385051545275|0.009474283158489959|208.43385051545275|\n",
      "|2022-08-01|    34368|   80E65EC80|  34368| 80E65EC80|3811380.36|        Yen| 3811380.36|          Yen|  Reinvestment|            0|    8|2022|0.009474283158489959|  36110.0967553474|0.009474283158489959|  36110.0967553474|\n",
      "|2022-08-01|   334770|   80FC56A70| 334770| 80FC56A70|   9502.34|  US Dollar| 1001546.27|          Yen|           ACH|            0|    8|2022|0.009474283158489959| 9488.932958309437|                 1.0|           9502.34|\n",
      "|2022-08-01|   337925|   80FC8C920| 337925| 80FC8C920|      0.94|  US Dollar|      99.59|          Yen|           ACH|            0|    8|2022|0.009474283158489959| 0.943543859754015|                 1.0|              0.94|\n",
      "|2022-08-01|   350449|   812B30E40| 350449| 812B30E40|  54382.67|        Yen|   54382.67|          Yen|  Reinvestment|            0|    8|2022|0.009474283158489959| 515.2368144947171|0.009474283158489959| 515.2368144947171|\n",
      "|2022-08-01|   137768|   810C9C5C0| 137768| 810C9C5C0|    955.72|  US Dollar|  100732.81|          Yen|           ACH|            0|    8|2022|0.009474283158489959| 954.3711652903689|                 1.0|            955.72|\n",
      "|2022-08-01|   137768|   810C9C5C0| 137768| 810C9C5C0|    196.99|  US Dollar|    20763.1|          Yen|           ACH|            0|    8|2022|0.009474283158489959|196.71548864804285|                 1.0|            196.99|\n",
      "|2022-08-01|   137768|   810C9C5C0| 137768| 810C9C5C0|    835.18|  US Dollar|   88028.02|          Yen|           ACH|            0|    8|2022|0.009474283158489959| 834.0023873612173|                 1.0|            835.18|\n",
      "|2022-08-01|   137768|   810C9C5C0| 137768| 810C9C5C0|    203.22|  US Dollar|   21418.98|          Yen|           ACH|            0|    8|2022|0.009474283158489959|202.92948148603327|                 1.0|            203.22|\n",
      "|2022-08-01|   137768|   810C9C5C0| 137768| 810C9C5C0|    639.59|  US Dollar|   67412.51|          Yen|           ACH|            0|    8|2022|0.009474283158489959| 638.6852081645359|                 1.0|            639.59|\n",
      "|2022-08-01|   336215|   813C08590| 336215| 813C08590|  113541.1|        Yen|   113541.1|          Yen|  Reinvestment|            0|    8|2022|0.009474283158489959|1075.7205315264243|0.009474283158489959|1075.7205315264243|\n",
      "|2022-08-01|   359706|   818717140| 359706| 818717140|1592169.39|        Yen| 1592169.39|          Yen|  Reinvestment|            0|    8|2022|0.009474283158489959|15084.663637140231|0.009474283158489959|15084.663637140231|\n",
      "+----------+---------+------------+-------+----------+----------+-----------+-----------+-------------+--------------+-------------+-----+----+--------------------+------------------+--------------------+------------------+\n",
      "only showing top 20 rows\n",
      "\n"
     ]
    },
    {
     "name": "stderr",
     "output_type": "stream",
     "text": [
      "                                                                                \r"
     ]
    }
   ],
   "source": [
    "#convert transactions to usd so they can be scaled properly for decision trees\n",
    "conversion_rates_usd = conversion_rates.select(col('currency_from').alias('currency_from_conv'),col('conversion_rate')).filter((col('currency_to') == 'US Dollar'))\n",
    "#conversion_rates_usd.show()\n",
    "\n",
    "data_df_usd = data_df.join(conversion_rates_usd, data_df.currency_from == conversion_rates_usd.currency_from_conv, 'inner')\n",
    "data_df_usd = data_df_usd.withColumnRenamed('conversion_rate', 'conversion_rate_from').drop('currency_from_conv').withColumn('amount_from_usd', col('amount_from')*col('conversion_rate_from'))\n",
    "\n",
    "data_df_usd = data_df_usd.join(conversion_rates_usd, data_df_usd.currency_to == conversion_rates_usd.currency_from_conv, 'inner')\n",
    "data_df_usd = data_df_usd.withColumnRenamed('conversion_rate', 'conversion_rate_to').drop('currency_from_conv').withColumn('amount_to_usd', col('amount_to')*col('conversion_rate_to'))\n",
    "data_df_usd.show()"
   ]
  },
  {
   "cell_type": "code",
   "execution_count": 9,
   "id": "fa77a885-91bc-4985-b6bb-c1695be19b83",
   "metadata": {
    "tags": []
   },
   "outputs": [
    {
     "name": "stderr",
     "output_type": "stream",
     "text": [
      "                                                                                \r"
     ]
    },
    {
     "name": "stdout",
     "output_type": "stream",
     "text": [
      "outliers for amount_from_usd are 308769.701271 +/- 38648241.196831.  the median for amount_from_usd is 833.329229\n",
      "outliers for amount_to_usd are 308766.488507 +/- 38649611.481540.  the median for amount_from_usd is 833.336258\n"
     ]
    }
   ],
   "source": [
    "#recheck for outliers (+/- 3SD) with amounts in usd\n",
    "amount_from_usd_stats = data_df_usd.select(mean('amount_from_usd').alias('mean_from_usd'), stddev('amount_from_usd').alias('stddev_from_usd'), median('amount_from_usd').alias('median_from_usd')).first()\n",
    "amount_to_usd_stats = data_df_usd.select(mean('amount_to_usd').alias('mean_to_usd'), stddev('amount_to_usd').alias('stddev_to_usd'), median('amount_to_usd').alias('median_to_usd')).first()\n",
    "\n",
    "#create outlier dfs that have records with +/- 3SD payment amounts\n",
    "from_minus_3sd_df = data_df_usd.filter((col('amount_from_usd') < (amount_from_usd_stats.mean_from_usd - 3 * amount_from_usd_stats.stddev_from_usd)))\n",
    "from_plus_3sd_df = data_df_usd.filter((col('amount_from_usd') > (amount_from_usd_stats.mean_from_usd + 3 * amount_from_usd_stats.stddev_from_usd)))\n",
    "to_minus_3sd_df = data_df_usd.filter((col('amount_to_usd') < (amount_to_usd_stats.mean_to_usd - 3 * amount_to_usd_stats.stddev_to_usd)))\n",
    "to_plus_3sd_df = data_df_usd.filter((col('amount_to_usd') > (amount_to_usd_stats.mean_to_usd + 3 * amount_to_usd_stats.stddev_to_usd)))\n",
    "\n",
    "print('outliers for amount_from_usd are %f +/- %f.  the median for amount_from_usd is %f' %(amount_from_usd_stats.mean_from_usd, amount_from_usd_stats.stddev_from_usd, amount_from_usd_stats.median_from_usd))\n",
    "print('outliers for amount_to_usd are %f +/- %f.  the median for amount_from_usd is %f' %(amount_to_usd_stats.mean_to_usd, amount_to_usd_stats.stddev_to_usd, amount_to_usd_stats.median_to_usd))"
   ]
  },
  {
   "cell_type": "code",
   "execution_count": 10,
   "id": "538cc0e7-6814-4208-a05e-271eb0bbf2f1",
   "metadata": {
    "tags": []
   },
   "outputs": [],
   "source": [
    "#create unique id for bank + account number by hashing the bank and account number\n",
    "data_df_usd = data_df_usd.withColumn(\"unique_id_from\", sha2(concat_ws(\"_\", \"bank_from\", \"account_from\"), 256))\n",
    "data_df_usd = data_df_usd.withColumn(\"unique_id_to\", sha2(concat_ws(\"_\", \"bank_to\", \"account_to\"), 256))\n"
   ]
  },
  {
   "cell_type": "code",
   "execution_count": 11,
   "id": "1f04a92d-2deb-4c43-a9a8-79f95ba9317d",
   "metadata": {
    "tags": []
   },
   "outputs": [
    {
     "name": "stderr",
     "output_type": "stream",
     "text": [
      "[Stage 74:===================================================>     (9 + 1) / 10]\r"
     ]
    },
    {
     "name": "stdout",
     "output_type": "stream",
     "text": [
      "Distinct currencies in paid and received are the same: True\n"
     ]
    },
    {
     "name": "stderr",
     "output_type": "stream",
     "text": [
      "                                                                                \r"
     ]
    }
   ],
   "source": [
    "#check if receiving currency and payment currency have the same values for encoding\n",
    "\n",
    "distinct_currency_from = data_df_usd.select('currency_from').distinct().orderBy('currency_from').rdd.flatMap(lambda x: x).collect()\n",
    "distinct_currency_to = data_df_usd.select('currency_to').distinct().orderBy('currency_to').rdd.flatMap(lambda x: x).collect()\n",
    "\n",
    "print('Distinct currencies in paid and received are the same: ' + str(distinct_currency_from == distinct_currency_to))"
   ]
  },
  {
   "cell_type": "code",
   "execution_count": 12,
   "id": "f19692c9-49e6-417d-a4f6-2c43707e9550",
   "metadata": {
    "tags": []
   },
   "outputs": [
    {
     "name": "stderr",
     "output_type": "stream",
     "text": [
      "                                                                                \r"
     ]
    },
    {
     "name": "stdout",
     "output_type": "stream",
     "text": [
      "+-----+----+--------+\n",
      "|month|year|   count|\n",
      "+-----+----+--------+\n",
      "|    8|2022|59468136|\n",
      "|    9|2022|56137121|\n",
      "|   10|2022|54821376|\n",
      "|   11|2022| 9269215|\n",
      "|   12|2022|    6132|\n",
      "|    1|2023|     249|\n",
      "+-----+----+--------+\n",
      "\n"
     ]
    },
    {
     "name": "stderr",
     "output_type": "stream",
     "text": [
      "[Stage 108:========================================>               (8 + 3) / 11]\r"
     ]
    },
    {
     "name": "stdout",
     "output_type": "stream",
     "text": [
      "+-----+----+--------+-------------------+\n",
      "|month|year|   count|         percentage|\n",
      "+-----+----+--------+-------------------+\n",
      "|    8|2022|59468136|  0.330937729846713|\n",
      "|    9|2022|56137121| 0.3124007684362301|\n",
      "|   10|2022|54821376|0.30507870165147055|\n",
      "|   11|2022| 9269215|0.05158280006558638|\n",
      "+-----+----+--------+-------------------+\n",
      "\n"
     ]
    },
    {
     "name": "stderr",
     "output_type": "stream",
     "text": [
      "                                                                                \r"
     ]
    }
   ],
   "source": [
    "#check number of records by month\n",
    "count_by_month = data_df_usd.groupBy('month', 'year').agg(count('*').alias('count')).sort(asc('year'), asc('month'))\n",
    "count_by_month.show()\n",
    "\n",
    "#documentation shows data is generated for 8/1-11/5 so we can drop all data after 11/5 \n",
    "#documentation mentions that data after 11/5 are subsequent laundering transactions for chains that started within the timeframe but did not end within the timeframe\n",
    "aug_nov_df = data_df_usd.filter((col('month') <= 11) & (col('month') >=8))\n",
    "\n",
    "#get new total count of records\n",
    "num_rows = aug_nov_df.count()\n",
    "\n",
    "#get new counts by month and percentage of total data\n",
    "count_by_month = aug_nov_df.groupBy('month', 'year').agg(count('*').alias('count'), (count('*')/num_rows).alias('percentage')).sort(asc('year'), asc('month'))\n",
    "count_by_month.show()"
   ]
  },
  {
   "cell_type": "code",
   "execution_count": 13,
   "id": "9a33dc0a-7b05-4bb7-946a-6114db65fe2c",
   "metadata": {
    "tags": []
   },
   "outputs": [],
   "source": [
    "#convert timestamp to min max\n"
   ]
  },
  {
   "cell_type": "code",
   "execution_count": 14,
   "id": "d2a5473a-4605-4295-882e-1969843ed82d",
   "metadata": {},
   "outputs": [],
   "source": [
    "#encode categorical columns\n",
    "\n",
    "#scale continuous columns"
   ]
  },
  {
   "cell_type": "code",
   "execution_count": null,
   "id": "22574ec0-2573-4552-bce9-c4b064deb157",
   "metadata": {},
   "outputs": [],
   "source": []
  }
 ],
 "metadata": {
  "kernelspec": {
   "display_name": "Spark 3 in Python 3",
   "language": "python",
   "name": "pyspark3"
  },
  "language_info": {
   "codemirror_mode": {
    "name": "ipython",
    "version": 3
   },
   "file_extension": ".py",
   "mimetype": "text/x-python",
   "name": "python",
   "nbconvert_exporter": "python",
   "pygments_lexer": "ipython3",
   "version": "3.10.8"
  }
 },
 "nbformat": 4,
 "nbformat_minor": 5
}
