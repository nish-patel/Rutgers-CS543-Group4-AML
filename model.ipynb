{
 "cells": [
  {
   "cell_type": "code",
   "execution_count": 1,
   "id": "df540075-f1c5-4de1-997b-12183e2edfdb",
   "metadata": {
    "tags": []
   },
   "outputs": [],
   "source": [
    "from pyspark.sql import SparkSession\n",
    "from pyspark.ml.feature import VectorAssembler, StringIndexer\n",
    "from pyspark.ml.classification import RandomForestClassifier\n",
    "from pyspark.ml.evaluation import MulticlassClassificationEvaluator\n",
    "from pyspark.ml import Pipeline\n",
    "\n",
    "# Initializing SparkSession with Kryo serialization\n",
    "spark = SparkSession.builder \\\n",
    "    .appName(\"MoneyLaunderingDetectionRF\") \\\n",
    "    .config(\"spark.serializer\", \"org.apache.spark.serializer.KryoSerializer\") \\\n",
    "    .config(\"spark.kryo.registrationRequired\", \"false\") \\\n",
    "    .config(\"spark.kryoserializer.buffer.max\", \"1024m\") \\\n",
    "    .config(\"spark.driver.memory\", \"10g\") \\\n",
    "    .config(\"spark.executor.memory\", \"10g\") \\\n",
    "    .config(\"spark.executor.memoryOverhead\", \"1g\")\\\n",
    "    .config(\"spark.executor.extraJavaOptions\", \"-XX:+UseG1GC\")\\\n",
    "    .getOrCreate()\n"
   ]
  },
  {
   "cell_type": "code",
   "execution_count": 2,
   "id": "46c016dd-497e-44f0-8650-e336180a1fa2",
   "metadata": {
    "tags": []
   },
   "outputs": [
    {
     "name": "stdout",
     "output_type": "stream",
     "text": [
      "+----------+---------+------------+-------+----------+----------+-----------+-----------+-------------+--------------+-------------+-----+----+--------------------+------------------+--------------------+------------------+--------------------+--------------------+\n",
      "| timestamp|bank_from|account_from|bank_to|account_to| amount_to|currency_to|amount_from|currency_from|payment_format|is_laundering|month|year|conversion_rate_from|   amount_from_usd|  conversion_rate_to|     amount_to_usd|      unique_id_from|        unique_id_to|\n",
      "+----------+---------+------------+-------+----------+----------+-----------+-----------+-------------+--------------+-------------+-----+----+--------------------+------------------+--------------------+------------------+--------------------+--------------------+\n",
      "|2022-08-01|    34377|   801BEB6D0|  34377| 801BEB6D0|  99492.58|        Yen|   99492.58|          Yen|  Reinvestment|            0|    8|2022|0.009474283158489959| 942.6208750887149|0.009474283158489959| 942.6208750887149|5d54f10787c195554...|5d54f10787c195554...|\n",
      "|2022-08-01|    34371|   801CA4900|  34371| 801CA4900| 163760.09|        Yen|  163760.09|          Yen|  Reinvestment|            0|    8|2022|0.009474283158489959|   1551.5094627198|0.009474283158489959|   1551.5094627198|e1997551ccccccdac...|e1997551ccccccdac...|\n",
      "|2022-08-01|    34368|   802999A60|  34368| 802999A60|  468190.1|        Yen|   468190.1|          Yen|  Reinvestment|            0|    8|2022|0.009474283158489959| 4435.765579401729|0.009474283158489959| 4435.765579401729|a559fd089f8789588...|a559fd089f8789588...|\n",
      "|2022-08-01|    34377|   803016760|  34377| 803016760|3042418.35|        Yen| 3042418.35|          Yen|  Reinvestment|            0|    8|2022|0.009474283158489959| 28824.73293448581|0.009474283158489959| 28824.73293448581|beb46e5de17610c98...|beb46e5de17610c98...|\n",
      "|2022-08-01|   318111|   80739B230| 318111| 80739B230|3535268.58|        Yen| 3535268.58|          Yen|  Reinvestment|            0|    8|2022|0.009474283158489959| 33494.13556823271|0.009474283158489959| 33494.13556823271|7111ea38475a457e5...|7111ea38475a457e5...|\n",
      "|2022-08-01|    34379|   80796A4C0|  34379| 80796A4C0| 141441.65|        Yen|  141441.65|          Yen|  Reinvestment|            0|    8|2022|0.009474283158489959|1340.0582425040313|0.009474283158489959|1340.0582425040313|b06045b59c4754213...|b06045b59c4754213...|\n",
      "|2022-08-01|    34371|   808BCE0C0|  34371| 808BCE0C0| 162777.51|        Yen|  162777.51|          Yen|  Reinvestment|            0|    8|2022|0.009474283158489959| 1542.200221573931|0.009474283158489959| 1542.200221573931|1f4df6208150fe12c...|1f4df6208150fe12c...|\n",
      "|2022-08-01|     8904|   80B90BCA0|  39424| 81229AD10|   4866.54|        Yen|    4866.54|          Yen|   Credit Card|            0|    8|2022|0.009474283158489959|46.106977962117725|0.009474283158489959|46.106977962117725|0a34800d8b3a5dedb...|72865b358ea6ba790...|\n",
      "|2022-08-01|   337372|   80DCE1200| 337372| 80DCE1200|  21999.96|        Yen|   21999.96|          Yen|  Reinvestment|            0|    8|2022|0.009474283158489959|208.43385051545275|0.009474283158489959|208.43385051545275|51d47145db30cecf5...|51d47145db30cecf5...|\n",
      "|2022-08-01|    34368|   80E65EC80|  34368| 80E65EC80|3811380.36|        Yen| 3811380.36|          Yen|  Reinvestment|            0|    8|2022|0.009474283158489959|  36110.0967553474|0.009474283158489959|  36110.0967553474|69cd98805108b5392...|69cd98805108b5392...|\n",
      "|2022-08-01|   334770|   80FC56A70| 334770| 80FC56A70|   9502.34|  US Dollar| 1001546.27|          Yen|           ACH|            0|    8|2022|0.009474283158489959| 9488.932958309437|                 1.0|           9502.34|89965e8c83653e0ba...|89965e8c83653e0ba...|\n",
      "|2022-08-01|   337925|   80FC8C920| 337925| 80FC8C920|      0.94|  US Dollar|      99.59|          Yen|           ACH|            0|    8|2022|0.009474283158489959| 0.943543859754015|                 1.0|              0.94|9ff6f069708d9f544...|9ff6f069708d9f544...|\n",
      "|2022-08-01|   350449|   812B30E40| 350449| 812B30E40|  54382.67|        Yen|   54382.67|          Yen|  Reinvestment|            0|    8|2022|0.009474283158489959| 515.2368144947171|0.009474283158489959| 515.2368144947171|f101f544fc32d1983...|f101f544fc32d1983...|\n",
      "|2022-08-01|   137768|   810C9C5C0| 137768| 810C9C5C0|    955.72|  US Dollar|  100732.81|          Yen|           ACH|            0|    8|2022|0.009474283158489959| 954.3711652903689|                 1.0|            955.72|621a65a089b2e173c...|621a65a089b2e173c...|\n",
      "|2022-08-01|   137768|   810C9C5C0| 137768| 810C9C5C0|    196.99|  US Dollar|    20763.1|          Yen|           ACH|            0|    8|2022|0.009474283158489959|196.71548864804285|                 1.0|            196.99|621a65a089b2e173c...|621a65a089b2e173c...|\n",
      "|2022-08-01|   137768|   810C9C5C0| 137768| 810C9C5C0|    835.18|  US Dollar|   88028.02|          Yen|           ACH|            0|    8|2022|0.009474283158489959| 834.0023873612173|                 1.0|            835.18|621a65a089b2e173c...|621a65a089b2e173c...|\n",
      "|2022-08-01|   137768|   810C9C5C0| 137768| 810C9C5C0|    203.22|  US Dollar|   21418.98|          Yen|           ACH|            0|    8|2022|0.009474283158489959|202.92948148603327|                 1.0|            203.22|621a65a089b2e173c...|621a65a089b2e173c...|\n",
      "|2022-08-01|   137768|   810C9C5C0| 137768| 810C9C5C0|    639.59|  US Dollar|   67412.51|          Yen|           ACH|            0|    8|2022|0.009474283158489959| 638.6852081645359|                 1.0|            639.59|621a65a089b2e173c...|621a65a089b2e173c...|\n",
      "|2022-08-01|   336215|   813C08590| 336215| 813C08590|  113541.1|        Yen|   113541.1|          Yen|  Reinvestment|            0|    8|2022|0.009474283158489959|1075.7205315264243|0.009474283158489959|1075.7205315264243|0ff6433ae6c7fb594...|0ff6433ae6c7fb594...|\n",
      "|2022-08-01|   359706|   818717140| 359706| 818717140|1592169.39|        Yen| 1592169.39|          Yen|  Reinvestment|            0|    8|2022|0.009474283158489959|15084.663637140231|0.009474283158489959|15084.663637140231|9834d6d029d713d20...|9834d6d029d713d20...|\n",
      "+----------+---------+------------+-------+----------+----------+-----------+-----------+-------------+--------------+-------------+-----+----+--------------------+------------------+--------------------+------------------+--------------------+--------------------+\n",
      "only showing top 20 rows\n",
      "\n"
     ]
    }
   ],
   "source": [
    "data = spark.read.csv(\"/common/users/shared/cs543_group4/clean_data/part-00000-7c14ae91-860c-498f-8c30-891819d8e7e0-c000.csv\", header=True, inferSchema=True)\n",
    "data.show()\n"
   ]
  },
  {
   "cell_type": "code",
   "execution_count": 3,
   "id": "6137ffde-7a38-46be-ba54-ff75ad99e3bb",
   "metadata": {
    "tags": []
   },
   "outputs": [],
   "source": [
    "from pyspark.sql.functions import col\n",
    "\n",
    "data = data.withColumn(\"timestamp\", col(\"timestamp\").cast(\"long\"))\n"
   ]
  },
  {
   "cell_type": "code",
   "execution_count": 4,
   "id": "af03986c-1739-46ce-b6ba-bd5aa9cc4c40",
   "metadata": {
    "tags": []
   },
   "outputs": [],
   "source": [
    "indexers = [\n",
    "    StringIndexer(inputCol=column, outputCol=column+\"_index\").fit(data) \n",
    "    for column in ['account_from', 'account_to', 'payment_format']\n",
    "]\n",
    "\n",
    "pipeline = Pipeline(stages=indexers)\n",
    "data = pipeline.fit(data).transform(data)"
   ]
  },
  {
   "cell_type": "code",
   "execution_count": 5,
   "id": "c66f3681-a560-4db0-ab20-400964e4f1d8",
   "metadata": {},
   "outputs": [],
   "source": [
    "selected_cols = ['timestamp', 'bank_from', 'account_from_index', 'bank_to', 'account_to_index', \n",
    "                 'payment_format_index', 'month', 'year', 'amount_from_usd', 'amount_to_usd', 'is_laundering']\n",
    "reduced_df = data.select(*selected_cols)"
   ]
  },
  {
   "cell_type": "code",
   "execution_count": 6,
   "id": "e7ee8421-2716-48eb-b88c-33dad86b6a89",
   "metadata": {},
   "outputs": [],
   "source": [
    "assembler = VectorAssembler(\n",
    "    inputCols=['timestamp', 'bank_from', 'account_from_index', 'bank_to', 'account_to_index', 'payment_format_index', 'month', 'year', 'amount_from_usd', 'amount_to_usd'],\n",
    "    outputCol=\"features\"\n",
    ")\n",
    "\n",
    "reduced_data = assembler.transform(reduced_df)\n"
   ]
  },
  {
   "cell_type": "code",
   "execution_count": 7,
   "id": "601fed61-0fb1-4ffa-bea0-64b7f1c3e032",
   "metadata": {},
   "outputs": [],
   "source": [
    "train_data, test_data = reduced_data.randomSplit([0.7, 0.3], seed=42)"
   ]
  },
  {
   "cell_type": "code",
   "execution_count": null,
   "id": "897a5d74-7e1c-4534-a7df-5a4c86f49127",
   "metadata": {},
   "outputs": [],
   "source": [
    "rf = RandomForestClassifier(labelCol=\"is_laundering\", featuresCol=\"features\", numTrees=30)\n",
    "\n",
    "model = rf.fit(train_data)\n"
   ]
  },
  {
   "cell_type": "code",
   "execution_count": null,
   "id": "4ab538ca-9ef9-4d88-97b4-597d18abc52d",
   "metadata": {},
   "outputs": [],
   "source": [
    "predictions = model.transform(test_data)\n",
    "\n",
    "evaluator = BinaryClassificationEvaluator(\n",
    "    labelCol=\"is_laundering\", rawPredictionCol=\"rawPrediction\", metricName=\"areaUnderROC\"\n",
    ")\n",
    "auc = evaluator.evaluate(predictions)\n",
    "\n",
    "print(f\"Area under ROC: {auc}\")\n"
   ]
  },
  {
   "cell_type": "code",
   "execution_count": null,
   "id": "b7507c14-c0cc-4652-a0e7-db82e493ab2c",
   "metadata": {},
   "outputs": [],
   "source": [
    "importances = model.featureImportances\n",
    "for i, importance in enumerate(importances):\n",
    "    print(f\"Feature {i}: {importance}\")\n"
   ]
  },
  {
   "cell_type": "code",
   "execution_count": null,
   "id": "830c1990-98be-46b1-b3c6-4cdbe9636cf2",
   "metadata": {},
   "outputs": [],
   "source": [
    "from pyspark.ml.evaluation import MulticlassClassificationEvaluator"
   ]
  },
  {
   "cell_type": "code",
   "execution_count": null,
   "id": "69d6337b-f7ad-428d-bfe3-4562bd1427c4",
   "metadata": {},
   "outputs": [],
   "source": [
    "predictions = model.transform(test_data)"
   ]
  },
  {
   "cell_type": "code",
   "execution_count": null,
   "id": "b1d4ebee-c5e9-44ed-b6eb-459aee007b3b",
   "metadata": {
    "tags": []
   },
   "outputs": [],
   "source": [
    "evaluator = MulticlassClassificationEvaluator(\n",
    "    labelCol=\"is_laundering\", predictionCol=\"prediction\", metricName=\"accuracy\"\n",
    ")\n",
    "accuracy = evaluator.evaluate(predictions)\n",
    "print(f\"Accuracy: {accuracy * 100:.2f}%\")"
   ]
  },
  {
   "cell_type": "code",
   "execution_count": null,
   "id": "c9aea296-fc5c-482f-8311-f8bcacfdd6d7",
   "metadata": {},
   "outputs": [],
   "source": []
  }
 ],
 "metadata": {
  "kernelspec": {
   "display_name": "Spark 3 in Python 3",
   "language": "python",
   "name": "pyspark3"
  },
  "language_info": {
   "codemirror_mode": {
    "name": "ipython",
    "version": 3
   },
   "file_extension": ".py",
   "mimetype": "text/x-python",
   "name": "python",
   "nbconvert_exporter": "python",
   "pygments_lexer": "ipython3",
   "version": "3.9.5"
  }
 },
 "nbformat": 4,
 "nbformat_minor": 5
}
